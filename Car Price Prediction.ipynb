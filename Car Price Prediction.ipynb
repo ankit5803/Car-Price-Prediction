{
 "cells": [
  {
   "cell_type": "code",
   "execution_count": 43,
   "id": "86e4c87d-eb9d-4088-a4b8-8f3e018bde4a",
   "metadata": {},
   "outputs": [],
   "source": [
    "import pandas as pd\n",
    "import numpy as np\n",
    "import matplotlib.pyplot as plt\n",
    "import seaborn as sns\n"
   ]
  },
  {
   "cell_type": "code",
   "execution_count": 44,
   "id": "33260736-e98c-4e13-abe3-cd71b59af21a",
   "metadata": {},
   "outputs": [],
   "source": [
    "data=pd.read_csv(r\"C:\\Users\\ankit\\Downloads\\P74-Project-1\\Car_Purchasing_Data.csv\", encoding = 'ISO-8859-1')\n",
    "\n"
   ]
  },
  {
   "cell_type": "code",
   "execution_count": 45,
   "id": "5bb47709-44ed-4da4-bef0-bcd49ee0ffb1",
   "metadata": {},
   "outputs": [],
   "source": [
    "x = data.drop(['Customer Name','Customer e-mail','Country','Car Purchase Amount'],axis=1)\n",
    "y = data['Car Purchase Amount']\n",
    "\n",
    "\n",
    "\n"
   ]
  },
  {
   "cell_type": "code",
   "execution_count": 48,
   "id": "7b809e4e-2eee-49d1-9a7d-89e806741870",
   "metadata": {},
   "outputs": [
    {
     "name": "stdout",
     "output_type": "stream",
     "text": [
      "[[0.         0.4370344  0.53515116 0.57836085 0.22342985]\n",
      " [0.         0.41741247 0.58308616 0.476028   0.52140195]\n",
      " [1.         0.46305795 0.42248189 0.55579674 0.63108896]\n",
      " ...\n",
      " [1.         0.67886994 0.61110973 0.52822145 0.75972584]\n",
      " [1.         0.78321017 0.37264988 0.69914746 0.3243129 ]\n",
      " [1.         0.53462305 0.51713347 0.46690159 0.45198622]]\n"
     ]
    }
   ],
   "source": [
    "print (x)\n"
   ]
  },
  {
   "cell_type": "code",
   "execution_count": 49,
   "id": "333988df-72b8-4d57-b877-2077587b7417",
   "metadata": {},
   "outputs": [
    {
     "name": "stdout",
     "output_type": "stream",
     "text": [
      "0      35321.45877\n",
      "1      45115.52566\n",
      "2      42925.70921\n",
      "3      67422.36313\n",
      "4      55915.46248\n",
      "          ...     \n",
      "495    48901.44342\n",
      "496    31491.41457\n",
      "497    64147.28888\n",
      "498    45442.15353\n",
      "499    45107.22566\n",
      "Name: Car Purchase Amount, Length: 500, dtype: float64\n"
     ]
    }
   ],
   "source": [
    "print(y)"
   ]
  },
  {
   "cell_type": "code",
   "execution_count": 50,
   "id": "c44ed6a9-f3fc-4782-a0d4-0a1d40055ca7",
   "metadata": {},
   "outputs": [
    {
     "data": {
      "text/plain": [
       "(500, 5)"
      ]
     },
     "execution_count": 50,
     "metadata": {},
     "output_type": "execute_result"
    }
   ],
   "source": [
    "x.shape\n"
   ]
  },
  {
   "cell_type": "code",
   "execution_count": 51,
   "id": "c85b8c52-b8dd-425c-a543-4a99cec9177e",
   "metadata": {},
   "outputs": [
    {
     "data": {
      "text/plain": [
       "(500,)"
      ]
     },
     "execution_count": 51,
     "metadata": {},
     "output_type": "execute_result"
    }
   ],
   "source": [
    "y.shape"
   ]
  },
  {
   "cell_type": "code",
   "execution_count": 57,
   "id": "29aab5d6-d5d2-4417-9c25-eb485a554491",
   "metadata": {},
   "outputs": [],
   "source": [
    "from sklearn.preprocessing import MinMaxScaler\n",
    "sc = MinMaxScaler()\n",
    "x = sc.fit_transform(x)\n",
    "y=y.values.reshape(-1,1)\n",
    "y = sc.fit_transform(y)\n"
   ]
  },
  {
   "cell_type": "code",
   "execution_count": 61,
   "id": "9b4e5406-2518-4c36-af56-57451dd988a0",
   "metadata": {},
   "outputs": [],
   "source": [
    "from sklearn.model_selection import train_test_split\n",
    "x_train, x_test, y_train, y_test = train_test_split(x, y, test_size = 0.25, random_state = 0)"
   ]
  },
  {
   "cell_type": "code",
   "execution_count": 79,
   "id": "b2a3776a-b2cc-40d5-8319-8eff12588bfc",
   "metadata": {},
   "outputs": [],
   "source": [
    "import tensorflow.keras\n",
    "from tensorflow.keras.models import Sequential\n",
    "from tensorflow.keras.layers import Dense\n",
    "\n",
    "model=Sequential()\n",
    "model.add(Dense(60,input_dim=5,activation='relu'))\n",
    "model.add(Dense(30,activation='relu'))\n",
    "\n",
    "model.add(Dense(1,activation='linear'))\n",
    "\n",
    "\n"
   ]
  },
  {
   "cell_type": "code",
   "execution_count": 80,
   "id": "2f440d3c-d061-4636-bc5f-57905fe4b03a",
   "metadata": {},
   "outputs": [
    {
     "name": "stdout",
     "output_type": "stream",
     "text": [
      "Model: \"sequential_4\"\n",
      "_________________________________________________________________\n",
      " Layer (type)                Output Shape              Param #   \n",
      "=================================================================\n",
      " dense_14 (Dense)            (None, 60)                360       \n",
      "                                                                 \n",
      " dense_15 (Dense)            (None, 30)                1830      \n",
      "                                                                 \n",
      " dense_16 (Dense)            (None, 1)                 31        \n",
      "                                                                 \n",
      "=================================================================\n",
      "Total params: 2221 (8.68 KB)\n",
      "Trainable params: 2221 (8.68 KB)\n",
      "Non-trainable params: 0 (0.00 Byte)\n",
      "_________________________________________________________________\n"
     ]
    }
   ],
   "source": [
    "model.summary()"
   ]
  },
  {
   "cell_type": "code",
   "execution_count": 81,
   "id": "d287bb9e-e5d8-47cb-af67-b1ed7d323be7",
   "metadata": {},
   "outputs": [],
   "source": [
    "model.compile(optimizer='adam',loss='mean_squared_error')"
   ]
  },
  {
   "cell_type": "code",
   "execution_count": 82,
   "id": "010ffb38-794c-4b74-b9b3-076bf4df8406",
   "metadata": {},
   "outputs": [
    {
     "name": "stdout",
     "output_type": "stream",
     "text": [
      "Epoch 1/20\n",
      "12/12 [==============================] - 1s 23ms/step - loss: 0.1126 - val_loss: 0.0441\n",
      "Epoch 2/20\n",
      "12/12 [==============================] - 0s 7ms/step - loss: 0.0217 - val_loss: 0.0193\n",
      "Epoch 3/20\n",
      "12/12 [==============================] - 0s 6ms/step - loss: 0.0205 - val_loss: 0.0159\n",
      "Epoch 4/20\n",
      "12/12 [==============================] - 0s 8ms/step - loss: 0.0146 - val_loss: 0.0170\n",
      "Epoch 5/20\n",
      "12/12 [==============================] - 0s 9ms/step - loss: 0.0132 - val_loss: 0.0140\n",
      "Epoch 6/20\n",
      "12/12 [==============================] - 0s 11ms/step - loss: 0.0113 - val_loss: 0.0119\n",
      "Epoch 7/20\n",
      "12/12 [==============================] - 0s 8ms/step - loss: 0.0098 - val_loss: 0.0099\n",
      "Epoch 8/20\n",
      "12/12 [==============================] - 0s 9ms/step - loss: 0.0080 - val_loss: 0.0084\n",
      "Epoch 9/20\n",
      "12/12 [==============================] - 0s 8ms/step - loss: 0.0066 - val_loss: 0.0068\n",
      "Epoch 10/20\n",
      "12/12 [==============================] - 0s 9ms/step - loss: 0.0052 - val_loss: 0.0054\n",
      "Epoch 11/20\n",
      "12/12 [==============================] - 0s 8ms/step - loss: 0.0043 - val_loss: 0.0048\n",
      "Epoch 12/20\n",
      "12/12 [==============================] - 0s 9ms/step - loss: 0.0035 - val_loss: 0.0037\n",
      "Epoch 13/20\n",
      "12/12 [==============================] - 0s 6ms/step - loss: 0.0028 - val_loss: 0.0033\n",
      "Epoch 14/20\n",
      "12/12 [==============================] - 0s 5ms/step - loss: 0.0024 - val_loss: 0.0028\n",
      "Epoch 15/20\n",
      "12/12 [==============================] - 0s 6ms/step - loss: 0.0019 - val_loss: 0.0026\n",
      "Epoch 16/20\n",
      "12/12 [==============================] - 0s 6ms/step - loss: 0.0016 - val_loss: 0.0021\n",
      "Epoch 17/20\n",
      "12/12 [==============================] - 0s 7ms/step - loss: 0.0013 - val_loss: 0.0017\n",
      "Epoch 18/20\n",
      "12/12 [==============================] - 0s 6ms/step - loss: 0.0011 - val_loss: 0.0014\n",
      "Epoch 19/20\n",
      "12/12 [==============================] - 0s 6ms/step - loss: 8.5530e-04 - val_loss: 0.0012\n",
      "Epoch 20/20\n",
      "12/12 [==============================] - 0s 7ms/step - loss: 6.7499e-04 - val_loss: 9.0377e-04\n"
     ]
    }
   ],
   "source": [
    "validTepochs_hist=model.fit(x_train,y_train,epochs=20,batch_size=25,verbose=1,validation_split=0.2)"
   ]
  },
  {
   "cell_type": "code",
   "execution_count": 86,
   "id": "11185b45-8d6f-41b3-a95c-bde363540327",
   "metadata": {},
   "outputs": [
    {
     "name": "stdout",
     "output_type": "stream",
     "text": [
      "1/1 [==============================] - 0s 94ms/step\n",
      "[[213407.83]]\n"
     ]
    }
   ],
   "source": [
    "a = np.array([1, 50, 50000, 10000, 600000])\n",
    "\n",
    "# Reshape 'a' to be a 2D array (batch size of 1)\n",
    "a = a.reshape(1, -1)\n",
    "\n",
    "# Predict using the model\n",
    "b = model.predict(a)\n",
    "\n",
    "print(b)"
   ]
  },
  {
   "cell_type": "code",
   "execution_count": 87,
   "id": "4f02a412-3398-41f0-baa7-278f1f019d43",
   "metadata": {},
   "outputs": [
    {
     "name": "stdout",
     "output_type": "stream",
     "text": [
      "4/4 [==============================] - 0s 3ms/step - loss: 7.1146e-04\n",
      "Test loss: 0.0007114604813978076\n"
     ]
    }
   ],
   "source": [
    "# Evaluate the model on the test data\n",
    "test_loss = model.evaluate(x_test, y_test)\n",
    "print(f\"Test loss: {test_loss}\")\n"
   ]
  },
  {
   "cell_type": "code",
   "execution_count": null,
   "id": "5863c254-16d1-4c35-b071-d7800012a938",
   "metadata": {},
   "outputs": [],
   "source": []
  }
 ],
 "metadata": {
  "kernelspec": {
   "display_name": "Python 3 (ipykernel)",
   "language": "python",
   "name": "python3"
  },
  "language_info": {
   "codemirror_mode": {
    "name": "ipython",
    "version": 3
   },
   "file_extension": ".py",
   "mimetype": "text/x-python",
   "name": "python",
   "nbconvert_exporter": "python",
   "pygments_lexer": "ipython3",
   "version": "3.11.7"
  }
 },
 "nbformat": 4,
 "nbformat_minor": 5
}
